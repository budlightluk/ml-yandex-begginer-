{
 "cells": [
  {
   "cell_type": "code",
   "execution_count": 10,
   "id": "c450cd15",
   "metadata": {},
   "outputs": [
    {
     "name": "stdout",
     "output_type": "stream",
     "text": [
      "5650000.0\n"
     ]
    },
    {
     "data": {
      "text/html": [
       "<div>\n",
       "<style scoped>\n",
       "    .dataframe tbody tr th:only-of-type {\n",
       "        vertical-align: middle;\n",
       "    }\n",
       "\n",
       "    .dataframe tbody tr th {\n",
       "        vertical-align: top;\n",
       "    }\n",
       "\n",
       "    .dataframe thead th {\n",
       "        text-align: right;\n",
       "    }\n",
       "</style>\n",
       "<table border=\"1\" class=\"dataframe\">\n",
       "  <thead>\n",
       "    <tr style=\"text-align: right;\">\n",
       "      <th></th>\n",
       "      <th>last_price</th>\n",
       "      <th>total_area</th>\n",
       "      <th>rooms</th>\n",
       "      <th>ceiling_height</th>\n",
       "      <th>floors_total</th>\n",
       "      <th>living_area</th>\n",
       "      <th>floor</th>\n",
       "      <th>is_apartment</th>\n",
       "      <th>studio</th>\n",
       "      <th>open_plan</th>\n",
       "      <th>kitchen_area</th>\n",
       "      <th>balcony</th>\n",
       "      <th>airports_nearest</th>\n",
       "      <th>cityCenters_nearest</th>\n",
       "    </tr>\n",
       "  </thead>\n",
       "  <tbody>\n",
       "    <tr>\n",
       "      <th>0</th>\n",
       "      <td>5400000.0</td>\n",
       "      <td>59.0</td>\n",
       "      <td>2</td>\n",
       "      <td>2.87</td>\n",
       "      <td>4.0</td>\n",
       "      <td>31.5</td>\n",
       "      <td>2</td>\n",
       "      <td>0.0</td>\n",
       "      <td>0.0</td>\n",
       "      <td>0.0</td>\n",
       "      <td>6.6</td>\n",
       "      <td>0.0</td>\n",
       "      <td>20485.0</td>\n",
       "      <td>8180.0</td>\n",
       "    </tr>\n",
       "    <tr>\n",
       "      <th>1</th>\n",
       "      <td>13200000.0</td>\n",
       "      <td>109.0</td>\n",
       "      <td>4</td>\n",
       "      <td>3.15</td>\n",
       "      <td>5.0</td>\n",
       "      <td>72.0</td>\n",
       "      <td>2</td>\n",
       "      <td>0.0</td>\n",
       "      <td>0.0</td>\n",
       "      <td>0.0</td>\n",
       "      <td>12.2</td>\n",
       "      <td>0.0</td>\n",
       "      <td>42683.0</td>\n",
       "      <td>8643.0</td>\n",
       "    </tr>\n",
       "    <tr>\n",
       "      <th>2</th>\n",
       "      <td>7000000.0</td>\n",
       "      <td>74.5</td>\n",
       "      <td>3</td>\n",
       "      <td>2.58</td>\n",
       "      <td>10.0</td>\n",
       "      <td>49.0</td>\n",
       "      <td>9</td>\n",
       "      <td>0.0</td>\n",
       "      <td>0.0</td>\n",
       "      <td>0.0</td>\n",
       "      <td>10.8</td>\n",
       "      <td>0.0</td>\n",
       "      <td>14078.0</td>\n",
       "      <td>16670.0</td>\n",
       "    </tr>\n",
       "    <tr>\n",
       "      <th>3</th>\n",
       "      <td>3200000.0</td>\n",
       "      <td>37.4</td>\n",
       "      <td>1</td>\n",
       "      <td>2.50</td>\n",
       "      <td>9.0</td>\n",
       "      <td>20.0</td>\n",
       "      <td>4</td>\n",
       "      <td>0.0</td>\n",
       "      <td>0.0</td>\n",
       "      <td>0.0</td>\n",
       "      <td>6.2</td>\n",
       "      <td>2.0</td>\n",
       "      <td>17792.0</td>\n",
       "      <td>17699.0</td>\n",
       "    </tr>\n",
       "    <tr>\n",
       "      <th>4</th>\n",
       "      <td>6650000.0</td>\n",
       "      <td>64.9</td>\n",
       "      <td>3</td>\n",
       "      <td>2.65</td>\n",
       "      <td>12.0</td>\n",
       "      <td>41.9</td>\n",
       "      <td>11</td>\n",
       "      <td>0.0</td>\n",
       "      <td>0.0</td>\n",
       "      <td>0.0</td>\n",
       "      <td>10.4</td>\n",
       "      <td>0.0</td>\n",
       "      <td>14767.0</td>\n",
       "      <td>10573.0</td>\n",
       "    </tr>\n",
       "  </tbody>\n",
       "</table>\n",
       "</div>"
      ],
      "text/plain": [
       "   last_price  total_area  rooms  ceiling_height  floors_total  living_area  \\\n",
       "0   5400000.0        59.0      2            2.87           4.0         31.5   \n",
       "1  13200000.0       109.0      4            3.15           5.0         72.0   \n",
       "2   7000000.0        74.5      3            2.58          10.0         49.0   \n",
       "3   3200000.0        37.4      1            2.50           9.0         20.0   \n",
       "4   6650000.0        64.9      3            2.65          12.0         41.9   \n",
       "\n",
       "   floor  is_apartment  studio  open_plan  kitchen_area  balcony  \\\n",
       "0      2           0.0     0.0        0.0           6.6      0.0   \n",
       "1      2           0.0     0.0        0.0          12.2      0.0   \n",
       "2      9           0.0     0.0        0.0          10.8      0.0   \n",
       "3      4           0.0     0.0        0.0           6.2      2.0   \n",
       "4     11           0.0     0.0        0.0          10.4      0.0   \n",
       "\n",
       "   airports_nearest  cityCenters_nearest  \n",
       "0           20485.0               8180.0  \n",
       "1           42683.0               8643.0  \n",
       "2           14078.0              16670.0  \n",
       "3           17792.0              17699.0  \n",
       "4           14767.0              10573.0  "
      ]
     },
     "execution_count": 10,
     "metadata": {},
     "output_type": "execute_result"
    }
   ],
   "source": [
    "import pandas as pd\n",
    "df = pd.read_csv('train_data.csv')\n",
    "print(df['last_price'].median())\n",
    "df.head()"
   ]
  },
  {
   "cell_type": "code",
   "execution_count": 15,
   "id": "6af28743",
   "metadata": {},
   "outputs": [
    {
     "name": "stdout",
     "output_type": "stream",
     "text": [
      "0\n"
     ]
    }
   ],
   "source": [
    "def price_class(last_price):\n",
    "    if last_price > 5650000:\n",
    "        return 1\n",
    "    else:\n",
    "        return 0\n",
    "last_price = df.loc[5, 'last_price']\n",
    "\n",
    "print(price_class(last_price))"
   ]
  },
  {
   "cell_type": "code",
   "execution_count": 16,
   "id": "d4697fb2",
   "metadata": {},
   "outputs": [],
   "source": [
    "df.loc[df['last_price'] > 5650000, 'price_class'] = 1\n",
    "\n",
    "df.loc[df['last_price'] <= 5650000, 'price_class'] = 0"
   ]
  },
  {
   "cell_type": "code",
   "execution_count": 17,
   "id": "fc5901b4",
   "metadata": {},
   "outputs": [],
   "source": [
    "features =  df.drop(['last_price', 'price_class'], axis=1)\n",
    "target = df['price_class']"
   ]
  },
  {
   "cell_type": "code",
   "execution_count": 22,
   "id": "b60b1c7a",
   "metadata": {},
   "outputs": [],
   "source": [
    "from sklearn.tree import DecisionTreeClassifier"
   ]
  },
  {
   "cell_type": "code",
   "execution_count": 23,
   "id": "20763152",
   "metadata": {},
   "outputs": [
    {
     "name": "stdout",
     "output_type": "stream",
     "text": [
      "DecisionTreeClassifier()\n"
     ]
    }
   ],
   "source": [
    "model = DecisionTreeClassifier()\n",
    "\n",
    "model.fit(features, target)\n",
    "print(model)"
   ]
  },
  {
   "cell_type": "code",
   "execution_count": 26,
   "id": "b5e01078",
   "metadata": {},
   "outputs": [],
   "source": [
    "new_features = pd.DataFrame(\n",
    "\n",
    "    [[900, 12, 2.8, 25, 409.7, 25, 0, 0, 0, 112, 0, 30706.0, 7877.0],\n",
    "\n",
    "     [109, 2, 2.75, 25, 32, 25, 0, 0, 0, 40.5, 0, 36421.0, 9176.0]],\n",
    "\n",
    "    columns=features.columns)\n"
   ]
  },
  {
   "cell_type": "code",
   "execution_count": 27,
   "id": "c11c1966",
   "metadata": {},
   "outputs": [
    {
     "data": {
      "text/html": [
       "<div>\n",
       "<style scoped>\n",
       "    .dataframe tbody tr th:only-of-type {\n",
       "        vertical-align: middle;\n",
       "    }\n",
       "\n",
       "    .dataframe tbody tr th {\n",
       "        vertical-align: top;\n",
       "    }\n",
       "\n",
       "    .dataframe thead th {\n",
       "        text-align: right;\n",
       "    }\n",
       "</style>\n",
       "<table border=\"1\" class=\"dataframe\">\n",
       "  <thead>\n",
       "    <tr style=\"text-align: right;\">\n",
       "      <th></th>\n",
       "      <th>total_area</th>\n",
       "      <th>rooms</th>\n",
       "      <th>ceiling_height</th>\n",
       "      <th>floors_total</th>\n",
       "      <th>living_area</th>\n",
       "      <th>floor</th>\n",
       "      <th>is_apartment</th>\n",
       "      <th>studio</th>\n",
       "      <th>open_plan</th>\n",
       "      <th>kitchen_area</th>\n",
       "      <th>balcony</th>\n",
       "      <th>airports_nearest</th>\n",
       "      <th>cityCenters_nearest</th>\n",
       "    </tr>\n",
       "  </thead>\n",
       "  <tbody>\n",
       "    <tr>\n",
       "      <th>0</th>\n",
       "      <td>900</td>\n",
       "      <td>12</td>\n",
       "      <td>2.80</td>\n",
       "      <td>25</td>\n",
       "      <td>409.7</td>\n",
       "      <td>25</td>\n",
       "      <td>0</td>\n",
       "      <td>0</td>\n",
       "      <td>0</td>\n",
       "      <td>112.0</td>\n",
       "      <td>0</td>\n",
       "      <td>30706.0</td>\n",
       "      <td>7877.0</td>\n",
       "    </tr>\n",
       "    <tr>\n",
       "      <th>1</th>\n",
       "      <td>109</td>\n",
       "      <td>2</td>\n",
       "      <td>2.75</td>\n",
       "      <td>25</td>\n",
       "      <td>32.0</td>\n",
       "      <td>25</td>\n",
       "      <td>0</td>\n",
       "      <td>0</td>\n",
       "      <td>0</td>\n",
       "      <td>40.5</td>\n",
       "      <td>0</td>\n",
       "      <td>36421.0</td>\n",
       "      <td>9176.0</td>\n",
       "    </tr>\n",
       "  </tbody>\n",
       "</table>\n",
       "</div>"
      ],
      "text/plain": [
       "   total_area  rooms  ceiling_height  floors_total  living_area  floor  \\\n",
       "0         900     12            2.80            25        409.7     25   \n",
       "1         109      2            2.75            25         32.0     25   \n",
       "\n",
       "   is_apartment  studio  open_plan  kitchen_area  balcony  airports_nearest  \\\n",
       "0             0       0          0         112.0        0           30706.0   \n",
       "1             0       0          0          40.5        0           36421.0   \n",
       "\n",
       "   cityCenters_nearest  \n",
       "0               7877.0  \n",
       "1               9176.0  "
      ]
     },
     "execution_count": 27,
     "metadata": {},
     "output_type": "execute_result"
    }
   ],
   "source": [
    "new_features.head()"
   ]
  },
  {
   "cell_type": "code",
   "execution_count": 28,
   "id": "81338f69",
   "metadata": {},
   "outputs": [
    {
     "data": {
      "text/plain": [
       "array([1., 0.])"
      ]
     },
     "execution_count": 28,
     "metadata": {},
     "output_type": "execute_result"
    }
   ],
   "source": [
    "answers = model.predict(new_features) \n",
    "answers"
   ]
  },
  {
   "cell_type": "code",
   "execution_count": 24,
   "id": "0d57528d",
   "metadata": {},
   "outputs": [
    {
     "name": "stdout",
     "output_type": "stream",
     "text": [
      "Ошибок: 91\n"
     ]
    }
   ],
   "source": [
    "import pandas as pd\n",
    "from sklearn.tree import DecisionTreeClassifier\n",
    "\n",
    "train_data = pd.read_csv('train_data.csv')\n",
    "test_data = pd.read_csv('test_data.csv').drop(columns=['Unnamed: 0'])\n",
    "\n",
    "\n",
    "train_data['price_class'] = train_data['last_price'].apply(lambda x: 1 if x > 5650000 else 0)\n",
    "test_data['price_class'] = test_data['last_price'].apply(lambda x: 1 if x > 5650000 else 0)\n",
    "\n",
    "\n",
    "features = train_data.drop(['last_price', 'price_class'], axis=1)\n",
    "target = train_data['price_class']\n",
    "\n",
    "\n",
    "model = DecisionTreeClassifier(random_state=12345)\n",
    "model.fit(features, target)\n",
    "\n",
    "\n",
    "test_features = test_data.drop(['last_price', 'price_class'], axis=1)\n",
    "test_target = test_data['price_class']\n",
    "\n",
    "\n",
    "test_predictions = model.predict(test_features)\n",
    "def error_count(answers, predictions):\n",
    "    errors = 0\n",
    "    for i in range(len(answers)):\n",
    "        if answers[i] != predictions[i]:\n",
    "            errors += 1\n",
    "    return errors\n",
    "print(\"Ошибок:\", error_count(test_target, test_predictions))"
   ]
  },
  {
   "cell_type": "code",
   "execution_count": 27,
   "id": "b26209d7",
   "metadata": {},
   "outputs": [
    {
     "name": "stdout",
     "output_type": "stream",
     "text": [
      "Accuracy: 0.8595679012345679\n"
     ]
    }
   ],
   "source": [
    "def accuracy(answers, predictions):\n",
    "    correct = 0\n",
    "    for i in range(len(answers)):\n",
    "        if answers[i] == predictions[i]:\n",
    "            correct +=1\n",
    "    return correct / len(answers) \n",
    "print(\"Accuracy:\", accuracy(test_target, test_predictions))\n"
   ]
  },
  {
   "cell_type": "code",
   "execution_count": 31,
   "id": "0f50d7f1",
   "metadata": {},
   "outputs": [
    {
     "data": {
      "text/plain": [
       "0.8595679012345679"
      ]
     },
     "execution_count": 31,
     "metadata": {},
     "output_type": "execute_result"
    }
   ],
   "source": [
    "from sklearn.metrics import accuracy_score \n",
    "accuracy = accuracy_score(test_target, test_predictions) \n",
    "accuracy"
   ]
  },
  {
   "cell_type": "code",
   "execution_count": 42,
   "id": "71536918",
   "metadata": {},
   "outputs": [
    {
     "data": {
      "text/plain": [
       "0.8435719784449577"
      ]
     },
     "execution_count": 42,
     "metadata": {},
     "output_type": "execute_result"
    }
   ],
   "source": [
    "train_predictions = model.predict(features)\n",
    "accuracy_score(target, train_predictions)\n"
   ]
  },
  {
   "cell_type": "code",
   "execution_count": 54,
   "id": "54d15594",
   "metadata": {},
   "outputs": [
    {
     "name": "stdout",
     "output_type": "stream",
     "text": [
      "Accuracy лучшей модели: 0.8435719784449577\n"
     ]
    }
   ],
   "source": [
    "import pandas as pd\n",
    "\n",
    "from sklearn.tree import DecisionTreeClassifier\n",
    "\n",
    "from sklearn.metrics import accuracy_score\n",
    "\n",
    "df = pd.read_csv('train_data.csv')\n",
    "\n",
    "df.loc[df['last_price'] > 5650000, 'price_class'] = 1\n",
    "\n",
    "df.loc[df['last_price'] <= 5650000, 'price_class'] = 0\n",
    "\n",
    "features = df.drop(['last_price', 'price_class'], axis=1)\n",
    "\n",
    "target = df['price_class']\n",
    "best_model = None\n",
    "best_result = 0\n",
    "\n",
    "for depth in range(1, 6):\n",
    "\n",
    "    model = DecisionTreeClassifier(random_state=12345, max_depth=1)\n",
    "    model.fit(features, target)\n",
    "\n",
    "    predictions = model.predict(test_features)\n",
    "\n",
    "    result = accuracy_score(target, train_predictions)\n",
    "\n",
    "    if result > best_result:\n",
    "\n",
    "        best_model = model\n",
    "\n",
    "        best_result = result\n",
    "\n",
    "print(\"Accuracy лучшей модели:\", best_result)"
   ]
  },
  {
   "cell_type": "code",
   "execution_count": null,
   "id": "09d1d790",
   "metadata": {},
   "outputs": [],
   "source": []
  }
 ],
 "metadata": {
  "kernelspec": {
   "display_name": "Python 3 (ipykernel)",
   "language": "python",
   "name": "python3"
  },
  "language_info": {
   "codemirror_mode": {
    "name": "ipython",
    "version": 3
   },
   "file_extension": ".py",
   "mimetype": "text/x-python",
   "name": "python",
   "nbconvert_exporter": "python",
   "pygments_lexer": "ipython3",
   "version": "3.9.12"
  }
 },
 "nbformat": 4,
 "nbformat_minor": 5
}
